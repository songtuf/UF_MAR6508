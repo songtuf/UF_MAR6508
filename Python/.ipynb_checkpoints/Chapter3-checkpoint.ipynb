{
 "cells": [
  {
   "cell_type": "markdown",
   "id": "a507adcc",
   "metadata": {},
   "source": [
    "# Chap. 3: Cluster Analysis Replication"
   ]
  },
  {
   "cell_type": "markdown",
   "id": "6bbb3161",
   "metadata": {},
   "source": [
    "The following code replicates the hierarchical and k-means cluster analysis from pp. 69-76 of PPG(2022)."
   ]
  },
  {
   "cell_type": "markdown",
   "id": "641d0d3d",
   "metadata": {},
   "source": [
    "### Step1: Load Packages"
   ]
  },
  {
   "cell_type": "code",
   "execution_count": 51,
   "id": "015feadd",
   "metadata": {},
   "outputs": [],
   "source": [
    "import os\n",
    "import pandas as pd # version 1.4.3\n",
    "import numpy as np # version 1.23.2\n",
    "from sklearn.cluster import AgglomerativeClustering # version 1.0.2\n",
    "from scipy.cluster.hierarchy import dendrogram, linkage\n",
    "from sklearn.preprocessing import StandardScaler # version 1.0.2\n",
    "import matplotlib.pyplot as plt"
   ]
  },
  {
   "cell_type": "markdown",
   "id": "f367d8ef",
   "metadata": {},
   "source": [
    "### Step2: Set Working Directory"
   ]
  },
  {
   "cell_type": "markdown",
   "id": "960f230c",
   "metadata": {},
   "source": [
    "A __directory__ is a location on your computer for storing files. A __working directory__ is the default location where Python will look for any files you want to load and/or save. A __path__ is a string of characters to identify a directory or a file.\n",
    "\n",
    "For example, \"Chapter3.ipynb\" script is stored under the \"Python\" directory. The path to my \"Python\" directory is 'C:/Users/songt/Desktop/MAR6508/Python'. See the image below."
   ]
  },
  {
   "cell_type": "markdown",
   "id": "5c4d4836",
   "metadata": {},
   "source": [
    "![Directory Structure](https://raw.githubusercontent.com/songtuf/UF_MAR6508/main/Images/working_dir.png)"
   ]
  },
  {
   "cell_type": "code",
   "execution_count": 3,
   "id": "591b387a",
   "metadata": {},
   "outputs": [
    {
     "data": {
      "text/plain": [
       "'C:\\\\Users\\\\songt\\\\Desktop\\\\MAR6508\\\\Python'"
      ]
     },
     "execution_count": 3,
     "metadata": {},
     "output_type": "execute_result"
    }
   ],
   "source": [
    "# Check the current working directory\n",
    "os.getcwd()"
   ]
  },
  {
   "cell_type": "code",
   "execution_count": 2,
   "id": "44781144",
   "metadata": {},
   "outputs": [],
   "source": [
    "# Set your working directory by replacing \"your_path\"\n",
    "# For example, my path is 'C:/Users/songt/Desktop/MAR6508/Python'\n",
    "# os.chdir(\"your_path\")"
   ]
  },
  {
   "cell_type": "markdown",
   "id": "3d15e2aa",
   "metadata": {},
   "source": [
    "### Step3: Load the data set"
   ]
  },
  {
   "cell_type": "markdown",
   "id": "1cd555fc",
   "metadata": {},
   "source": [
    "I have saved the data sets for MAR6508 in the \"Data\" directory. Note that my working directory as \"Python\". Both \"Python\" and \"Data\" directories are under the parent directory \"MAR6508\". You can navigate to different directories and files from the current working directory."
   ]
  },
  {
   "cell_type": "markdown",
   "id": "732c846d",
   "metadata": {},
   "source": [
    "![Directory Structure](https://raw.githubusercontent.com/songtuf/UF_MAR6508/main/Images/path_str.png)"
   ]
  },
  {
   "cell_type": "markdown",
   "id": "c3ca6bf8",
   "metadata": {},
   "source": [
    "__..__ : To move up to the parent directory <br>\n",
    "__/___ : To move down to the child directory"
   ]
  },
  {
   "cell_type": "code",
   "execution_count": 4,
   "id": "752082d5",
   "metadata": {},
   "outputs": [],
   "source": [
    "df = pd.read_csv(\"../Data/retail_segmentation.csv\")\n",
    "# You can also read the csv file by providing the full path\n",
    "# For example,\n",
    "# df = pd.read_csv(\"C:/Users/songt/Desktop/MAR6508/Data/retail_segmentation.csv\")\n",
    "# Note that my path will be different from yours"
   ]
  },
  {
   "cell_type": "code",
   "execution_count": 11,
   "id": "9133d578",
   "metadata": {},
   "outputs": [
    {
     "name": "stdout",
     "output_type": "stream",
     "text": [
      "<class 'pandas.core.frame.DataFrame'>\n",
      "RangeIndex: 2000 entries, 0 to 1999\n",
      "Data columns (total 16 columns):\n",
      " #   Column          Non-Null Count  Dtype  \n",
      "---  ------          --------------  -----  \n",
      " 0   Cust_No         2000 non-null   int64  \n",
      " 1   avg_order_size  2000 non-null   float64\n",
      " 2   avg_order_freq  2000 non-null   float64\n",
      " 3   crossbuy        2000 non-null   int64  \n",
      " 4   multichannel    2000 non-null   int64  \n",
      " 5   per_sale        2000 non-null   float64\n",
      " 6   tenure          2000 non-null   int64  \n",
      " 7   return_rate     2000 non-null   float64\n",
      " 8   married         2000 non-null   int64  \n",
      " 9   own_home        2000 non-null   int64  \n",
      " 10  household_size  2000 non-null   int64  \n",
      " 11  loyalty_card    2000 non-null   int64  \n",
      " 12  income          2000 non-null   int64  \n",
      " 13  age             2000 non-null   int64  \n",
      " 14  avg_mktg_cnt    2000 non-null   float64\n",
      " 15  zip_code        2000 non-null   int64  \n",
      "dtypes: float64(5), int64(11)\n",
      "memory usage: 250.1 KB\n"
     ]
    }
   ],
   "source": [
    "# Check if the file was read-in correctly\n",
    "df.info()"
   ]
  },
  {
   "cell_type": "markdown",
   "id": "4045f43f",
   "metadata": {},
   "source": [
    "### Step 4: Run hierarchical clustering with bases variables"
   ]
  },
  {
   "cell_type": "markdown",
   "id": "712a4e31",
   "metadata": {},
   "source": [
    "##### Step 4 - 1: Select the following columns\n",
    "avg_order_size, avg_order_freq, crossbuy, multichannel, per_sale, tenure, avg_mktg_cnt, return_rate"
   ]
  },
  {
   "cell_type": "code",
   "execution_count": 75,
   "id": "f8d3a200",
   "metadata": {},
   "outputs": [],
   "source": [
    "# Select by the column name\n",
    "sub_df = df[[\"avg_order_size\", \"avg_order_freq\", \"crossbuy\", \"multichannel\", \"per_sale\", \"tenure\", \"avg_mktg_cnt\", \"return_rate\"]]\n",
    "# Select by the column index\n",
    "sub_df = df.iloc[:, np.r_[1:8, 14]]"
   ]
  },
  {
   "cell_type": "markdown",
   "id": "c0bf4ec4",
   "metadata": {},
   "source": [
    "#### Step 4 - 2: Scale the data set"
   ]
  },
  {
   "cell_type": "code",
   "execution_count": 79,
   "id": "2a2767b7",
   "metadata": {},
   "outputs": [],
   "source": [
    "scale = StandardScaler()\n",
    "sub_df_scaled = scale.fit_transform(sub_df)"
   ]
  },
  {
   "cell_type": "markdown",
   "id": "38a9d57a",
   "metadata": {},
   "source": [
    "#### Step 4-3: Run hierarchical clustering"
   ]
  },
  {
   "cell_type": "code",
   "execution_count": 80,
   "id": "07734d90",
   "metadata": {},
   "outputs": [],
   "source": [
    "seg = linkage(sub_df_scaled, method='complete')"
   ]
  },
  {
   "cell_type": "markdown",
   "id": "34a147e7",
   "metadata": {},
   "source": [
    "### Step 5: Elbow Plot for First 10 Segments"
   ]
  },
  {
   "cell_type": "markdown",
   "id": "4b2212fc",
   "metadata": {},
   "source": [
    "Use the elbow plot to determine the appropriate number of clusters"
   ]
  },
  {
   "cell_type": "code",
   "execution_count": 82,
   "id": "73477049",
   "metadata": {},
   "outputs": [
    {
     "data": {
      "image/png": "[encoded data removed]",
      "text/plain": [
       "<Figure size 432x288 with 1 Axes>"
      ]
     },
     "metadata": {
      "needs_background": "light"
     },
     "output_type": "display_data"
    }
   ],
   "source": [
    "sort_height = seg[-10:, 2][::-1] # select and order the 10 top largest distance\n",
    "idxs = np.arange(1, len(sort_height) + 1) # create an index\n",
    "plt.plot(idxs, sort_height) # plot\n",
    "plt.show()"
   ]
  },
  {
   "cell_type": "markdown",
   "id": "961dcca2",
   "metadata": {},
   "source": [
    "Visualize the results with dendrogram"
   ]
  },
  {
   "cell_type": "code",
   "execution_count": 83,
   "id": "b6e2eb08",
   "metadata": {},
   "outputs": [
    {
     "data": {
      "image/png": "[encoded data removed]",
      "text/plain": [
       "<Figure size 432x288 with 1 Axes>"
      ]
     },
     "metadata": {
      "needs_background": "light"
     },
     "output_type": "display_data"
    }
   ],
   "source": [
    "dendrogram(linkage_data)\n",
    "plt.show()"
   ]
  },
  {
   "cell_type": "code",
   "execution_count": 55,
   "id": "eb498342",
   "metadata": {},
   "outputs": [
    {
     "data": {
      "text/plain": [
       "(1999, 4)"
      ]
     },
     "execution_count": 55,
     "metadata": {},
     "output_type": "execute_result"
    }
   ],
   "source": [
    "linkage_data.shape"
   ]
  },
  {
   "cell_type": "code",
   "execution_count": null,
   "id": "7dc17bf2",
   "metadata": {},
   "outputs": [],
   "source": [
    "dendrogram(linkage_data)\n",
    "plt.show()\n"
   ]
  },
  {
   "cell_type": "code",
   "execution_count": 56,
   "id": "45e436bc",
   "metadata": {},
   "outputs": [
    {
     "data": {
      "text/plain": [
       "array([[4.23000000e+02, 1.86000000e+03, 0.00000000e+00, 2.00000000e+00],\n",
       "       [1.41000000e+02, 3.70000000e+02, 3.67647100e-03, 2.00000000e+00],\n",
       "       [9.29000000e+02, 1.04700000e+03, 2.25841738e-01, 2.00000000e+00],\n",
       "       ...,\n",
       "       [6.31000000e+02, 3.98900000e+03, 2.55307998e+02, 4.00000000e+00],\n",
       "       [3.99400000e+03, 3.99500000e+03, 3.39761423e+02, 1.99600000e+03],\n",
       "       [3.99600000e+03, 3.99700000e+03, 5.42083520e+02, 2.00000000e+03]])"
      ]
     },
     "execution_count": 56,
     "metadata": {},
     "output_type": "execute_result"
    }
   ],
   "source": [
    "linkage_data"
   ]
  },
  {
   "cell_type": "code",
   "execution_count": 59,
   "id": "b19425d2",
   "metadata": {},
   "outputs": [
    {
     "name": "stdout",
     "output_type": "stream",
     "text": [
      "(150, 2)\n"
     ]
    },
    {
     "data": {
      "image/png": "[encoded data removed]",
      "text/plain": [
       "<Figure size 432x288 with 1 Axes>"
      ]
     },
     "metadata": {
      "needs_background": "light"
     },
     "output_type": "display_data"
    }
   ],
   "source": [
    "np.random.seed(4711)  # for repeatability of this tutorial\n",
    "a = np.random.multivariate_normal([10, 0], [[3, 1], [1, 4]], size=[100,])\n",
    "b = np.random.multivariate_normal([0, 20], [[3, 1], [1, 4]], size=[50,])\n",
    "X = np.concatenate((a, b),)\n",
    "print (X.shape)  # 150 samples with 2 dimensions\n",
    "plt.scatter(X[:,0], X[:,1])\n",
    "plt.show()"
   ]
  },
  {
   "cell_type": "code",
   "execution_count": 60,
   "id": "5c9ddb1b",
   "metadata": {},
   "outputs": [],
   "source": [
    "Z = linkage(X, 'ward')"
   ]
  },
  {
   "cell_type": "code",
   "execution_count": 61,
   "id": "28a82b35",
   "metadata": {},
   "outputs": [
    {
     "data": {
      "text/plain": [
       "array([[5.20000000e+01, 5.30000000e+01, 4.15105485e-02, 2.00000000e+00],\n",
       "       [1.40000000e+01, 7.90000000e+01, 5.91375926e-02, 2.00000000e+00],\n",
       "       [3.30000000e+01, 6.80000000e+01, 7.10677929e-02, 2.00000000e+00],\n",
       "       [1.70000000e+01, 7.30000000e+01, 7.13712071e-02, 2.00000000e+00],\n",
       "       [1.00000000e+00, 8.00000000e+00, 7.54313099e-02, 2.00000000e+00],\n",
       "       [8.50000000e+01, 9.50000000e+01, 1.09277896e-01, 2.00000000e+00],\n",
       "       [1.08000000e+02, 1.31000000e+02, 1.10071548e-01, 2.00000000e+00],\n",
       "       [9.00000000e+00, 6.60000000e+01, 1.13022407e-01, 2.00000000e+00],\n",
       "       [1.50000000e+01, 6.90000000e+01, 1.14289714e-01, 2.00000000e+00],\n",
       "       [6.30000000e+01, 9.80000000e+01, 1.21200766e-01, 2.00000000e+00],\n",
       "       [1.07000000e+02, 1.15000000e+02, 1.21671017e-01, 2.00000000e+00],\n",
       "       [6.50000000e+01, 7.40000000e+01, 1.24900190e-01, 2.00000000e+00],\n",
       "       [5.80000000e+01, 6.10000000e+01, 1.40277358e-01, 2.00000000e+00],\n",
       "       [6.20000000e+01, 1.52000000e+02, 1.72599535e-01, 3.00000000e+00],\n",
       "       [4.10000000e+01, 1.58000000e+02, 1.77901377e-01, 3.00000000e+00],\n",
       "       [1.00000000e+01, 8.30000000e+01, 1.86354938e-01, 2.00000000e+00],\n",
       "       [1.14000000e+02, 1.39000000e+02, 2.04186147e-01, 2.00000000e+00],\n",
       "       [3.90000000e+01, 8.80000000e+01, 2.06282849e-01, 2.00000000e+00],\n",
       "       [7.00000000e+01, 9.60000000e+01, 2.19312547e-01, 2.00000000e+00],\n",
       "       [4.60000000e+01, 5.00000000e+01, 2.20492804e-01, 2.00000000e+00],\n",
       "       [1.09000000e+02, 1.13000000e+02, 2.24986663e-01, 2.00000000e+00],\n",
       "       [3.10000000e+01, 8.00000000e+01, 2.32862816e-01, 2.00000000e+00],\n",
       "       [2.20000000e+01, 1.50000000e+02, 2.36078175e-01, 3.00000000e+00],\n",
       "       [2.80000000e+01, 3.50000000e+01, 2.42819974e-01, 2.00000000e+00],\n",
       "       [1.80000000e+01, 3.40000000e+01, 2.48389451e-01, 2.00000000e+00],\n",
       "       [1.05000000e+02, 1.37000000e+02, 2.59280405e-01, 2.00000000e+00],\n",
       "       [2.10000000e+01, 7.10000000e+01, 2.62001604e-01, 2.00000000e+00],\n",
       "       [3.00000000e+00, 3.20000000e+01, 2.66509630e-01, 2.00000000e+00],\n",
       "       [1.23000000e+02, 1.45000000e+02, 2.71913544e-01, 2.00000000e+00],\n",
       "       [1.10000000e+01, 4.40000000e+01, 2.91404524e-01, 2.00000000e+00],\n",
       "       [7.60000000e+01, 9.90000000e+01, 2.97093481e-01, 2.00000000e+00],\n",
       "       [4.70000000e+01, 5.90000000e+01, 2.99059799e-01, 2.00000000e+00],\n",
       "       [5.00000000e+00, 9.10000000e+01, 3.39202110e-01, 2.00000000e+00],\n",
       "       [9.00000000e+01, 1.81000000e+02, 3.39763724e-01, 3.00000000e+00],\n",
       "       [1.24000000e+02, 1.43000000e+02, 3.45214137e-01, 2.00000000e+00],\n",
       "       [4.30000000e+01, 5.50000000e+01, 3.45929445e-01, 2.00000000e+00],\n",
       "       [5.10000000e+01, 6.40000000e+01, 3.46553413e-01, 2.00000000e+00],\n",
       "       [5.40000000e+01, 9.70000000e+01, 3.55805293e-01, 2.00000000e+00],\n",
       "       [2.00000000e+00, 9.30000000e+01, 3.75562530e-01, 2.00000000e+00],\n",
       "       [1.00000000e+02, 1.60000000e+02, 3.80913085e-01, 3.00000000e+00],\n",
       "       [1.20000000e+01, 7.80000000e+01, 4.01472868e-01, 2.00000000e+00],\n",
       "       [1.18000000e+02, 1.33000000e+02, 4.05097832e-01, 2.00000000e+00],\n",
       "       [2.60000000e+01, 1.67000000e+02, 4.12133337e-01, 3.00000000e+00],\n",
       "       [8.20000000e+01, 1.63000000e+02, 4.18980543e-01, 4.00000000e+00],\n",
       "       [0.00000000e+00, 1.68000000e+02, 4.25362998e-01, 3.00000000e+00],\n",
       "       [1.44000000e+02, 1.56000000e+02, 4.43167352e-01, 3.00000000e+00],\n",
       "       [1.30000000e+02, 1.49000000e+02, 4.45787404e-01, 2.00000000e+00],\n",
       "       [1.54000000e+02, 1.64000000e+02, 4.60097743e-01, 5.00000000e+00],\n",
       "       [2.90000000e+01, 8.90000000e+01, 4.70335807e-01, 2.00000000e+00],\n",
       "       [1.02000000e+02, 1.47000000e+02, 4.71302568e-01, 2.00000000e+00],\n",
       "       [8.60000000e+01, 1.55000000e+02, 4.72173168e-01, 3.00000000e+00],\n",
       "       [1.01000000e+02, 1.34000000e+02, 4.78254332e-01, 2.00000000e+00],\n",
       "       [1.90000000e+01, 1.77000000e+02, 4.89484285e-01, 3.00000000e+00],\n",
       "       [6.00000000e+00, 8.40000000e+01, 4.99743222e-01, 2.00000000e+00],\n",
       "       [1.51000000e+02, 1.73000000e+02, 5.05199907e-01, 4.00000000e+00],\n",
       "       [4.50000000e+01, 9.20000000e+01, 5.24460465e-01, 2.00000000e+00],\n",
       "       [1.30000000e+01, 1.65000000e+02, 5.26233975e-01, 3.00000000e+00],\n",
       "       [1.10000000e+02, 1.78000000e+02, 5.29097437e-01, 3.00000000e+00],\n",
       "       [4.20000000e+01, 2.02000000e+02, 5.33881589e-01, 4.00000000e+00],\n",
       "       [1.53000000e+02, 1.74000000e+02, 5.37558049e-01, 4.00000000e+00],\n",
       "       [4.90000000e+01, 7.50000000e+01, 5.81200479e-01, 2.00000000e+00],\n",
       "       [1.06000000e+02, 1.42000000e+02, 5.90330642e-01, 2.00000000e+00],\n",
       "       [1.16000000e+02, 1.36000000e+02, 5.91505947e-01, 2.00000000e+00],\n",
       "       [1.75000000e+02, 1.96000000e+02, 5.97160620e-01, 4.00000000e+00],\n",
       "       [1.69000000e+02, 1.76000000e+02, 6.29486922e-01, 4.00000000e+00],\n",
       "       [5.60000000e+01, 1.90000000e+02, 6.40141135e-01, 3.00000000e+00],\n",
       "       [1.71000000e+02, 1.98000000e+02, 6.43710753e-01, 4.00000000e+00],\n",
       "       [1.11000000e+02, 1.26000000e+02, 6.59346638e-01, 2.00000000e+00],\n",
       "       [1.59000000e+02, 1.93000000e+02, 6.76649875e-01, 6.00000000e+00],\n",
       "       [1.57000000e+02, 1.88000000e+02, 7.10036934e-01, 4.00000000e+00],\n",
       "       [7.20000000e+01, 9.40000000e+01, 7.29958530e-01, 2.00000000e+00],\n",
       "       [8.10000000e+01, 2.06000000e+02, 7.47996178e-01, 4.00000000e+00],\n",
       "       [1.60000000e+01, 7.70000000e+01, 7.53781676e-01, 2.00000000e+00],\n",
       "       [6.70000000e+01, 1.92000000e+02, 7.72469937e-01, 4.00000000e+00],\n",
       "       [1.12000000e+02, 1.32000000e+02, 7.92726839e-01, 2.00000000e+00],\n",
       "       [1.03000000e+02, 1.22000000e+02, 8.10604930e-01, 2.00000000e+00],\n",
       "       [1.19000000e+02, 1.70000000e+02, 8.17309531e-01, 3.00000000e+00],\n",
       "       [1.86000000e+02, 2.05000000e+02, 8.32843248e-01, 4.00000000e+00],\n",
       "       [1.48000000e+02, 1.99000000e+02, 8.54389694e-01, 3.00000000e+00],\n",
       "       [2.40000000e+01, 1.62000000e+02, 8.65111008e-01, 3.00000000e+00],\n",
       "       [1.35000000e+02, 1.84000000e+02, 8.77319341e-01, 3.00000000e+00],\n",
       "       [2.30000000e+01, 1.79000000e+02, 9.09269952e-01, 3.00000000e+00],\n",
       "       [3.00000000e+01, 2.03000000e+02, 9.11997903e-01, 3.00000000e+00],\n",
       "       [8.70000000e+01, 1.87000000e+02, 9.23061191e-01, 3.00000000e+00],\n",
       "       [1.04000000e+02, 1.91000000e+02, 9.37163564e-01, 3.00000000e+00],\n",
       "       [1.21000000e+02, 1.95000000e+02, 9.73235140e-01, 4.00000000e+00],\n",
       "       [2.00000000e+01, 2.10000000e+02, 1.01208749e+00, 3.00000000e+00],\n",
       "       [3.70000000e+01, 5.70000000e+01, 1.01373896e+00, 2.00000000e+00],\n",
       "       [1.46000000e+02, 2.26000000e+02, 1.03060025e+00, 4.00000000e+00],\n",
       "       [1.72000000e+02, 2.14000000e+02, 1.03456497e+00, 7.00000000e+00],\n",
       "       [4.80000000e+01, 2.09000000e+02, 1.04091563e+00, 5.00000000e+00],\n",
       "       [1.89000000e+02, 2.30000000e+02, 1.05573700e+00, 6.00000000e+00],\n",
       "       [7.00000000e+00, 3.80000000e+01, 1.08173289e+00, 2.00000000e+00],\n",
       "       [1.28000000e+02, 1.66000000e+02, 1.12388675e+00, 3.00000000e+00],\n",
       "       [1.17000000e+02, 2.12000000e+02, 1.15172144e+00, 3.00000000e+00],\n",
       "       [1.83000000e+02, 2.00000000e+02, 1.15312496e+00, 6.00000000e+00],\n",
       "       [2.50000000e+01, 2.23000000e+02, 1.17325324e+00, 5.00000000e+00],\n",
       "       [3.60000000e+01, 1.80000000e+02, 1.18423212e+00, 3.00000000e+00],\n",
       "       [1.85000000e+02, 2.16000000e+02, 1.19546471e+00, 6.00000000e+00],\n",
       "       [2.11000000e+02, 2.24000000e+02, 1.22482123e+00, 4.00000000e+00],\n",
       "       [1.40000000e+02, 2.25000000e+02, 1.32626476e+00, 3.00000000e+00],\n",
       "       [1.38000000e+02, 2.07000000e+02, 1.35045653e+00, 4.00000000e+00],\n",
       "       [1.61000000e+02, 2.22000000e+02, 1.49318151e+00, 4.00000000e+00],\n",
       "       [1.94000000e+02, 1.97000000e+02, 1.49619316e+00, 8.00000000e+00],\n",
       "       [2.20000000e+02, 2.39000000e+02, 1.59175337e+00, 9.00000000e+00],\n",
       "       [2.15000000e+02, 2.31000000e+02, 1.67009794e+00, 6.00000000e+00],\n",
       "       [1.29000000e+02, 1.41000000e+02, 1.67580202e+00, 2.00000000e+00],\n",
       "       [2.01000000e+02, 2.51000000e+02, 1.69900231e+00, 6.00000000e+00],\n",
       "       [2.04000000e+02, 2.40000000e+02, 1.70929232e+00, 9.00000000e+00],\n",
       "       [2.70000000e+01, 6.00000000e+01, 1.75072784e+00, 2.00000000e+00],\n",
       "       [2.13000000e+02, 2.28000000e+02, 1.79407410e+00, 7.00000000e+00],\n",
       "       [2.27000000e+02, 2.33000000e+02, 1.84758143e+00, 7.00000000e+00],\n",
       "       [1.20000000e+02, 2.34000000e+02, 1.88066656e+00, 4.00000000e+00],\n",
       "       [2.08000000e+02, 2.55000000e+02, 1.92114302e+00, 1.00000000e+01],\n",
       "       [2.35000000e+02, 2.49000000e+02, 2.03402759e+00, 8.00000000e+00],\n",
       "       [2.19000000e+02, 2.37000000e+02, 2.15901881e+00, 6.00000000e+00],\n",
       "       [1.25000000e+02, 2.50000000e+02, 2.23527643e+00, 4.00000000e+00],\n",
       "       [2.32000000e+02, 2.46000000e+02, 2.26166269e+00, 8.00000000e+00],\n",
       "       [2.21000000e+02, 2.45000000e+02, 2.42437004e+00, 1.00000000e+01],\n",
       "       [2.41000000e+02, 2.57000000e+02, 2.46289389e+00, 1.20000000e+01],\n",
       "       [2.18000000e+02, 2.53000000e+02, 2.48409413e+00, 1.40000000e+01],\n",
       "       [2.29000000e+02, 2.48000000e+02, 2.61009104e+00, 9.00000000e+00],\n",
       "       [2.17000000e+02, 2.44000000e+02, 2.75677501e+00, 5.00000000e+00],\n",
       "       [1.27000000e+02, 2.62000000e+02, 2.83419027e+00, 5.00000000e+00],\n",
       "       [4.00000000e+00, 2.59000000e+02, 3.10980863e+00, 3.00000000e+00],\n",
       "       [2.42000000e+02, 2.61000000e+02, 3.32706211e+00, 9.00000000e+00],\n",
       "       [2.36000000e+02, 2.71000000e+02, 3.48015779e+00, 1.20000000e+01],\n",
       "       [1.82000000e+02, 2.67000000e+02, 3.72097174e+00, 1.00000000e+01],\n",
       "       [2.47000000e+02, 2.68000000e+02, 3.83145041e+00, 1.30000000e+01],\n",
       "       [2.43000000e+02, 2.60000000e+02, 4.00300409e+00, 1.00000000e+01],\n",
       "       [2.38000000e+02, 2.56000000e+02, 4.03584653e+00, 6.00000000e+00],\n",
       "       [2.64000000e+02, 2.73000000e+02, 4.11676131e+00, 1.30000000e+01],\n",
       "       [2.52000000e+02, 2.65000000e+02, 4.17760882e+00, 1.00000000e+01],\n",
       "       [2.54000000e+02, 2.63000000e+02, 5.05391485e+00, 1.90000000e+01],\n",
       "       [2.58000000e+02, 2.76000000e+02, 5.31022757e+00, 2.10000000e+01],\n",
       "       [2.69000000e+02, 2.72000000e+02, 6.20388183e+00, 1.70000000e+01],\n",
       "       [2.70000000e+02, 2.83000000e+02, 6.44511711e+00, 3.30000000e+01],\n",
       "       [2.79000000e+02, 2.81000000e+02, 6.59359584e+00, 2.30000000e+01],\n",
       "       [2.74000000e+02, 2.75000000e+02, 6.65621609e+00, 1.20000000e+01],\n",
       "       [4.00000000e+01, 2.78000000e+02, 7.11106083e+00, 1.40000000e+01],\n",
       "       [2.77000000e+02, 2.88000000e+02, 7.86878542e+00, 2.20000000e+01],\n",
       "       [2.66000000e+02, 2.80000000e+02, 8.04935282e+00, 1.00000000e+01],\n",
       "       [2.85000000e+02, 2.91000000e+02, 8.74822275e+00, 2.70000000e+01],\n",
       "       [2.82000000e+02, 2.89000000e+02, 9.84427829e+00, 2.40000000e+01],\n",
       "       [2.84000000e+02, 2.86000000e+02, 1.24273466e+01, 5.40000000e+01],\n",
       "       [2.90000000e+02, 2.94000000e+02, 1.51153312e+01, 7.60000000e+01],\n",
       "       [2.87000000e+02, 2.92000000e+02, 1.71152736e+01, 5.00000000e+01],\n",
       "       [2.93000000e+02, 2.95000000e+02, 2.31219894e+01, 1.00000000e+02],\n",
       "       [2.96000000e+02, 2.97000000e+02, 1.80270430e+02, 1.50000000e+02]])"
      ]
     },
     "execution_count": 61,
     "metadata": {},
     "output_type": "execute_result"
    }
   ],
   "source": [
    "Z"
   ]
  },
  {
   "cell_type": "code",
   "execution_count": 63,
   "id": "271d7b3e",
   "metadata": {},
   "outputs": [
    {
     "data": {
      "text/plain": [
       "array([  7.11106083,   7.86878542,   8.04935282,   8.74822275,\n",
       "         9.84427829,  12.42734657,  15.11533118,  17.11527362,\n",
       "        23.12198936, 180.27043021])"
      ]
     },
     "execution_count": 63,
     "metadata": {},
     "output_type": "execute_result"
    }
   ],
   "source": [
    "last = Z[-10:, 2]\n",
    "last"
   ]
  },
  {
   "cell_type": "code",
   "execution_count": 66,
   "id": "f7cd9757",
   "metadata": {},
   "outputs": [],
   "source": [
    "last[::-1]"
   ]
  },
  {
   "cell_type": "code",
   "execution_count": 68,
   "id": "a4b5cf2f",
   "metadata": {},
   "outputs": [
    {
     "data": {
      "image/png": "[encoded data removed]",
      "text/plain": [
       "<Figure size 432x288 with 1 Axes>"
      ]
     },
     "metadata": {
      "needs_background": "light"
     },
     "output_type": "display_data"
    }
   ],
   "source": [
    "last_rev = last[::-1]\n",
    "idxs = np.arange(1, len(last) + 1)\n",
    "plt.plot(idxs, last_rev)\n",
    "plt.show()\n",
    "\n",
    "# acceleration = np.diff(last, 2)  # 2nd derivative of the distances\n",
    "# acceleration_rev = acceleration[::-1]\n",
    "# plt.plot(idxs[:-2] + 1, acceleration_rev)\n",
    "# plt.show()"
   ]
  },
  {
   "cell_type": "code",
   "execution_count": null,
   "id": "dcbde21c",
   "metadata": {},
   "outputs": [],
   "source": []
  }
 ],
 "metadata": {
  "kernelspec": {
   "display_name": "Python 3 (ipykernel)",
   "language": "python",
   "name": "python3"
  },
  "language_info": {
   "codemirror_mode": {
    "name": "ipython",
    "version": 3
   },
   "file_extension": ".py",
   "mimetype": "text/x-python",
   "name": "python",
   "nbconvert_exporter": "python",
   "pygments_lexer": "ipython3",
   "version": "3.9.12"
  }
 },
 "nbformat": 4,
 "nbformat_minor": 5
}
