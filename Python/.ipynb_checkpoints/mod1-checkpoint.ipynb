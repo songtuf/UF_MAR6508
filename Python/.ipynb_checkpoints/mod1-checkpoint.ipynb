{
 "cells": [
  {
   "cell_type": "markdown",
   "id": "a507adcc",
   "metadata": {},
   "source": [
    "# Chap. 3: Cluster Analysis Replication"
   ]
  },
  {
   "cell_type": "markdown",
   "id": "6bbb3161",
   "metadata": {},
   "source": [
    "The following code replicates the hierarchical and k-means cluster analysis from pp. 69-76 of PPG(2022)."
   ]
  },
  {
   "cell_type": "markdown",
   "id": "641d0d3d",
   "metadata": {},
   "source": [
    "Step1: Load packages"
   ]
  },
  {
   "cell_type": "code",
   "execution_count": 1,
   "id": "015feadd",
   "metadata": {},
   "outputs": [],
   "source": [
    "import os\n",
    "import pandas as pd # version 1.4.3"
   ]
  },
  {
   "cell_type": "markdown",
   "id": "f367d8ef",
   "metadata": {},
   "source": [
    "Step2: Set working directory"
   ]
  },
  {
   "cell_type": "code",
   "execution_count": 16,
   "id": "591b387a",
   "metadata": {},
   "outputs": [
    {
     "ename": "FileNotFoundError",
     "evalue": "[WinError 2] The system cannot find the file specified: 'your_path'",
     "output_type": "error",
     "traceback": [
      "\u001b[1;31m---------------------------------------------------------------------------\u001b[0m",
      "\u001b[1;31mFileNotFoundError\u001b[0m                         Traceback (most recent call last)",
      "Input \u001b[1;32mIn [16]\u001b[0m, in \u001b[0;36m<cell line: 4>\u001b[1;34m()\u001b[0m\n\u001b[0;32m      2\u001b[0m os\u001b[38;5;241m.\u001b[39mgetcwd()\n\u001b[0;32m      3\u001b[0m \u001b[38;5;66;03m# Set your working directory by replacing \"your_path\" \u001b[39;00m\n\u001b[1;32m----> 4\u001b[0m \u001b[43mos\u001b[49m\u001b[38;5;241;43m.\u001b[39;49m\u001b[43mchdir\u001b[49m\u001b[43m(\u001b[49m\u001b[38;5;124;43m\"\u001b[39;49m\u001b[38;5;124;43myour_path\u001b[39;49m\u001b[38;5;124;43m\"\u001b[39;49m\u001b[43m)\u001b[49m\n",
      "\u001b[1;31mFileNotFoundError\u001b[0m: [WinError 2] The system cannot find the file specified: 'your_path'"
     ]
    }
   ],
   "source": [
    "# Check current working directory\n",
    "os.getcwd()\n",
    "# Set your working directory by replacing \"your_path\" \n",
    "os.chdir(\"your_path\")\n",
    "# For example, the path my working directory is\n",
    "'C:\\\\Users\\\\songt\\\\Desktop\\\\MAR6508\\\\Python'"
   ]
  },
  {
   "cell_type": "markdown",
   "id": "3d15e2aa",
   "metadata": {},
   "source": [
    "Step3: Load the data set"
   ]
  },
  {
   "cell_type": "code",
   "execution_count": 17,
   "id": "752082d5",
   "metadata": {},
   "outputs": [
    {
     "data": {
      "text/plain": [
       "'C:\\\\Users\\\\songt\\\\Desktop\\\\DrCooke\\\\Python'"
      ]
     },
     "execution_count": 17,
     "metadata": {},
     "output_type": "execute_result"
    }
   ],
   "source": [
    "os.getcwd()\n",
    "# pd.read_csv(\"../data/retail_segmentation.csv\")"
   ]
  },
  {
   "cell_type": "code",
   "execution_count": null,
   "id": "cebade8f",
   "metadata": {},
   "outputs": [],
   "source": []
  }
 ],
 "metadata": {
  "kernelspec": {
   "display_name": "Python 3 (ipykernel)",
   "language": "python",
   "name": "python3"
  },
  "language_info": {
   "codemirror_mode": {
    "name": "ipython",
    "version": 3
   },
   "file_extension": ".py",
   "mimetype": "text/x-python",
   "name": "python",
   "nbconvert_exporter": "python",
   "pygments_lexer": "ipython3",
   "version": "3.9.12"
  }
 },
 "nbformat": 4,
 "nbformat_minor": 5
}
